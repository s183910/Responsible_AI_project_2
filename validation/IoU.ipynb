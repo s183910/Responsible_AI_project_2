{
 "cells": [
  {
   "attachments": {},
   "cell_type": "markdown",
   "metadata": {},
   "source": [
    "# Ground truth for fuglene"
   ]
  },
  {
   "cell_type": "code",
   "execution_count": 1,
   "metadata": {},
   "outputs": [
    {
     "data": {
      "text/plain": [
       "'\\n9286 158.Bay_breasted_Warbler/Bay_Breasted_Warbler_0011_159736.jpg\\n9286 65.0 92.0 353.0 213.0\\n\\n9273 158.Bay_breasted_Warbler/Bay_Breasted_Warbler_0100_797142.jpg\\n9273 202.0 116.0 256.0 180.0\\n\\n10840 184.Louisiana_Waterthrush/Louisiana_Waterthrush_0022_177397.jpg\\n10840 85.0 85.0 253.0 176.0\\n\\n3344 058.Pigeon_Guillemot/Pigeon_Guillemot_0043_39861.jpg\\n3344 75.0 61.0 244.0 278.0\\n\\n3350 058.Pigeon_Guillemot/Pigeon_Guillemot_0109_39872.jpg\\n3350 71.0 15.0 139.0 181.0\\n\\n11068 188.Pileated_Woodpecker/Pileated_Woodpecker_0027_179956.jpg\\n11068 76.0 31.0 320.0 467.0\\n\\n7446 127.Savannah_Sparrow/Savannah_Sparrow_0093_118267.jpg\\n7446 163.0 95.0 133.0 278.0\\n\\n10531 179.Tennessee_Warbler/Tennessee_Warbler_0022_174799.jpg\\n10531 78.0 119.0 246.0 153.0\\n\\n10512 179.Tennessee_Warbler/Tennessee_Warbler_0067_174999.jpg\\n10512 122.0 127.0 255.0 217.0\\n\\n11691 199.Winter_Wren/Winter_Wren_0113_189558.jpg\\n11691 185.0 32.0 208.0 258.0\\n'"
      ]
     },
     "execution_count": 1,
     "metadata": {},
     "output_type": "execute_result"
    }
   ],
   "source": [
    "'''\n",
    "9286 158.Bay_breasted_Warbler/Bay_Breasted_Warbler_0011_159736.jpg\n",
    "9286 65.0 92.0 353.0 213.0\n",
    "\n",
    "9273 158.Bay_breasted_Warbler/Bay_Breasted_Warbler_0100_797142.jpg\n",
    "9273 202.0 116.0 256.0 180.0\n",
    "\n",
    "10840 184.Louisiana_Waterthrush/Louisiana_Waterthrush_0022_177397.jpg\n",
    "10840 85.0 85.0 253.0 176.0\n",
    "\n",
    "3344 058.Pigeon_Guillemot/Pigeon_Guillemot_0043_39861.jpg\n",
    "3344 75.0 61.0 244.0 278.0\n",
    "\n",
    "3350 058.Pigeon_Guillemot/Pigeon_Guillemot_0109_39872.jpg\n",
    "3350 71.0 15.0 139.0 181.0\n",
    "\n",
    "11068 188.Pileated_Woodpecker/Pileated_Woodpecker_0027_179956.jpg\n",
    "11068 76.0 31.0 320.0 467.0\n",
    "\n",
    "7446 127.Savannah_Sparrow/Savannah_Sparrow_0093_118267.jpg\n",
    "7446 163.0 95.0 133.0 278.0\n",
    "\n",
    "10531 179.Tennessee_Warbler/Tennessee_Warbler_0022_174799.jpg\n",
    "10531 78.0 119.0 246.0 153.0\n",
    "\n",
    "10512 179.Tennessee_Warbler/Tennessee_Warbler_0067_174999.jpg\n",
    "10512 122.0 127.0 255.0 217.0\n",
    "\n",
    "11691 199.Winter_Wren/Winter_Wren_0113_189558.jpg\n",
    "11691 185.0 32.0 208.0 258.0\n",
    "'''"
   ]
  },
  {
   "cell_type": "code",
   "execution_count": null,
   "metadata": {},
   "outputs": [],
   "source": []
  }
 ],
 "metadata": {
  "kernelspec": {
   "display_name": "Python 3",
   "language": "python",
   "name": "python3"
  },
  "language_info": {
   "codemirror_mode": {
    "name": "ipython",
    "version": 3
   },
   "file_extension": ".py",
   "mimetype": "text/x-python",
   "name": "python",
   "nbconvert_exporter": "python",
   "pygments_lexer": "ipython3",
   "version": "3.10.6"
  },
  "orig_nbformat": 4
 },
 "nbformat": 4,
 "nbformat_minor": 2
}
